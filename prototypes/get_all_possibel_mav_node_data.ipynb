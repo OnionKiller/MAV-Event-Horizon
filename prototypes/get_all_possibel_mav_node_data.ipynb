{
 "cells": [
  {
   "cell_type": "code",
   "execution_count": 41,
   "metadata": {},
   "outputs": [],
   "source": [
    "import requests\n",
    "from bs4 import BeautifulSoup  # type:ignore"
   ]
  },
  {
   "cell_type": "code",
   "execution_count": 42,
   "metadata": {},
   "outputs": [
    {
     "name": "stdout",
     "output_type": "stream",
     "text": [
      "114141 True\n",
      "114140 False\n"
     ]
    }
   ],
   "source": [
    "def is_valid_id(id: int):\n",
    "    res = requests.get(f\"https://www.mavcsoport.hu/node/{id}\", allow_redirects=False)\n",
    "    return res.status_code == 301\n",
    "\n",
    "\n",
    "print(114141, is_valid_id(114141))\n",
    "print(114140, is_valid_id(114140))"
   ]
  },
  {
   "cell_type": "code",
   "execution_count": 43,
   "metadata": {},
   "outputs": [],
   "source": [
    "valid_id_list = list()\n",
    "for id in range(710, 800):\n",
    "    res = requests.get(f\"https://www.mavcsoport.hu/node/{id}\", allow_redirects=False)\n",
    "    if res.status_code == 301:\n",
    "        valid_id_list.append((id, res.headers[\"Location\"]))"
   ]
  },
  {
   "cell_type": "code",
   "execution_count": 44,
   "metadata": {},
   "outputs": [
    {
     "name": "stdout",
     "output_type": "stream",
     "text": [
      "[(725, 'https://www.mavcsoport.hu/kozbeszerzes-felelos/szekesi-tamas'), (726, 'https://www.mavcsoport.hu/mav-szk/kozbeszerzes/szolnok-vjt-es-bekescsaba-vjt-foldgazellatasa-szabadpiaci-keretek-kozott-2014'), (728, 'https://www.mavcsoport.hu/mav-start/belfoldi-utazas/vasutallomas/baja'), (732, 'https://www.mavcsoport.hu/mav/64-vasutasnap'), (785, 'https://www.mavcsoport.hu/mav-start/szemelyes-ugyfelszolgalatok'), (786, 'https://www.mavcsoport.hu/mav-start/elvesztettem-hol-keressem'), (787, 'https://www.mavcsoport.hu/mav-start/nemzetkozi-utazas/allando-kedvezmenyek'), (788, 'https://www.mavcsoport.hu/mav-start/belfoldi-utazas/gyakran-ismetelt-kerdesek/az-automataknal-illetve-az-interneten'), (791, 'https://www.mavcsoport.hu/mav-start/belfoldi-utazas/gyakran-ismetelt-kerdesek/megoszthato-e-nyugdijasok-utazasi'), (794, 'https://www.mavcsoport.hu/mav-start/belfoldi-utazas/gyakran-ismetelt-kerdesek/budapest-debrecen-viszonylatu-menetterti'), (797, 'https://www.mavcsoport.hu/mav-start/belfoldi-utazas/gyakran-ismetelt-kerdesek/vettem-egy-budapest-deli-siofok-jegyet')]\n"
     ]
    }
   ],
   "source": [
    "print(valid_id_list)"
   ]
  },
  {
   "cell_type": "code",
   "execution_count": 45,
   "metadata": {},
   "outputs": [
    {
     "name": "stdout",
     "output_type": "stream",
     "text": [
      "https://www.mavcsoport.hu/kozbeszerzes-felelos/szekesi-tamas\n"
     ]
    }
   ],
   "source": [
    "res = requests.get(f\"https://www.mavcsoport.hu/node/725\", allow_redirects=False)\n",
    "print(res.headers[\"Location\"])"
   ]
  }
 ],
 "metadata": {
  "kernelspec": {
   "display_name": "Python 3.10.7 ('.venv': venv)",
   "language": "python",
   "name": "python3"
  },
  "language_info": {
   "codemirror_mode": {
    "name": "ipython",
    "version": 3
   },
   "file_extension": ".py",
   "mimetype": "text/x-python",
   "name": "python",
   "nbconvert_exporter": "python",
   "pygments_lexer": "ipython3",
   "version": "3.10.7"
  },
  "orig_nbformat": 4,
  "vscode": {
   "interpreter": {
    "hash": "db664d93f5faa7121f61b288f251b24b702e36eb17bcf8d0484f3d5af0656b5f"
   }
  }
 },
 "nbformat": 4,
 "nbformat_minor": 2
}
