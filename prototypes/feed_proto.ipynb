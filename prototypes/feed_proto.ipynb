{
 "cells": [
  {
   "cell_type": "code",
   "execution_count": 1,
   "metadata": {},
   "outputs": [],
   "source": [
    "import os, sys\n",
    "\n",
    "sys.path.append(os.path.dirname(os.path.realpath(\"../src\")))\n",
    "\n",
    "from src.feed_handler.dict_storage import DictStorage\n",
    "from src.RSS_abstracts.Feed import Feed"
   ]
  },
  {
   "cell_type": "code",
   "execution_count": 2,
   "metadata": {},
   "outputs": [],
   "source": [
    "storage = DictStorage()\n",
    "dataFeed = Feed(storage=storage, link=\"https://www.mavcsoport.hu/mavinform/rss.xml\")"
   ]
  },
  {
   "cell_type": "code",
   "execution_count": 3,
   "metadata": {},
   "outputs": [],
   "source": [
    "nw = dataFeed.update()"
   ]
  },
  {
   "cell_type": "code",
   "execution_count": 4,
   "metadata": {},
   "outputs": [
    {
     "name": "stdout",
     "output_type": "stream",
     "text": [
      "[RSSEntry(id='114175', title='A Miskolc-Hidasnémeti vonalon helyreáll a menetrend', link='https://www.mavcsoport.hu/node/114175', published='Sat, 26 Nov 2022 11:27:10 +0100'), RSSEntry(id='114173', title='Székesfehérvár és Várpalota között már nem kell pótlóbuszokkal utazni', link='https://www.mavcsoport.hu/node/114173', published='Sat, 26 Nov 2022 11:19:52 +0100'), RSSEntry(id='114171', title='A pécsi vonalon helyreáll a menetrend', link='https://www.mavcsoport.hu/node/114171', published='Sat, 26 Nov 2022 14:57:22 +0100'), RSSEntry(id='114167', title='Pótlóbuszok Balmazújváros-Tiszafüred és Tiszafüred-Balmazújváros viszonylaton', link='https://www.mavcsoport.hu/node/114167', published='Fri, 25 Nov 2022 23:36:30 +0100'), RSSEntry(id='114165', title='Hétfőn 24 órás vasúti munkabeszüntetés lehet Ausztriában', link='https://www.mavcsoport.hu/node/114165', published='Fri, 25 Nov 2022 21:33:17 +0100'), RSSEntry(id='114163', title='A győri vonalon helyreáll a menetrend', link='https://www.mavcsoport.hu/node/114163', published='Fri, 25 Nov 2022 23:51:44 +0100'), RSSEntry(id='114159', title='A Füzesabonyból Nyíregyházára 18:34-kor induló személyvonat csak Miskolctól közlekedik', link='https://www.mavcsoport.hu/node/114159', published='Fri, 25 Nov 2022 17:42:46 +0100'), RSSEntry(id='114141', title='A Budapest-Hatvan-Miskolc vonalon helyreáll a menetrend', link='https://www.mavcsoport.hu/node/114141', published='Fri, 25 Nov 2022 08:49:25 +0100'), RSSEntry(id='114139', title='Nem közlekedik egy vonat Miskolc-Szerencs és Szerencs-Miskolc között', link='https://www.mavcsoport.hu/node/114139', published='Fri, 25 Nov 2022 07:20:13 +0100'), RSSEntry(id='114137', title='Késik egy Nagykáta-Keleti közötti S60-as vonat', link='https://www.mavcsoport.hu/node/114137', published='Fri, 25 Nov 2022 06:22:07 +0100')]\n"
     ]
    }
   ],
   "source": [
    "print(nw)"
   ]
  },
  {
   "cell_type": "code",
   "execution_count": 5,
   "metadata": {},
   "outputs": [
    {
     "name": "stdout",
     "output_type": "stream",
     "text": [
      "[RSSEntry(id='114175', title='A Miskolc-Hidasnémeti vonalon helyreáll a menetrend', link='https://www.mavcsoport.hu/node/114175', published='Sat, 26 Nov 2022 11:27:10 +0100'), RSSEntry(id='114173', title='Székesfehérvár és Várpalota között már nem kell pótlóbuszokkal utazni', link='https://www.mavcsoport.hu/node/114173', published='Sat, 26 Nov 2022 11:19:52 +0100'), RSSEntry(id='114171', title='A pécsi vonalon helyreáll a menetrend', link='https://www.mavcsoport.hu/node/114171', published='Sat, 26 Nov 2022 14:57:22 +0100'), RSSEntry(id='114167', title='Pótlóbuszok Balmazújváros-Tiszafüred és Tiszafüred-Balmazújváros viszonylaton', link='https://www.mavcsoport.hu/node/114167', published='Fri, 25 Nov 2022 23:36:30 +0100'), RSSEntry(id='114165', title='Hétfőn 24 órás vasúti munkabeszüntetés lehet Ausztriában', link='https://www.mavcsoport.hu/node/114165', published='Fri, 25 Nov 2022 21:33:17 +0100'), RSSEntry(id='114163', title='A győri vonalon helyreáll a menetrend', link='https://www.mavcsoport.hu/node/114163', published='Fri, 25 Nov 2022 23:51:44 +0100'), RSSEntry(id='114159', title='A Füzesabonyból Nyíregyházára 18:34-kor induló személyvonat csak Miskolctól közlekedik', link='https://www.mavcsoport.hu/node/114159', published='Fri, 25 Nov 2022 17:42:46 +0100'), RSSEntry(id='114141', title='A Budapest-Hatvan-Miskolc vonalon helyreáll a menetrend', link='https://www.mavcsoport.hu/node/114141', published='Fri, 25 Nov 2022 08:49:25 +0100'), RSSEntry(id='114139', title='Nem közlekedik egy vonat Miskolc-Szerencs és Szerencs-Miskolc között', link='https://www.mavcsoport.hu/node/114139', published='Fri, 25 Nov 2022 07:20:13 +0100'), RSSEntry(id='114137', title='Késik egy Nagykáta-Keleti közötti S60-as vonat', link='https://www.mavcsoport.hu/node/114137', published='Fri, 25 Nov 2022 06:22:07 +0100')]\n"
     ]
    }
   ],
   "source": [
    "upd = dataFeed.update()\n",
    "print(upd)"
   ]
  },
  {
   "cell_type": "code",
   "execution_count": 6,
   "metadata": {},
   "outputs": [],
   "source": [
    "import pandas as pd"
   ]
  },
  {
   "cell_type": "code",
   "execution_count": 7,
   "metadata": {},
   "outputs": [
    {
     "data": {
      "text/html": [
       "<div>\n",
       "<style scoped>\n",
       "    .dataframe tbody tr th:only-of-type {\n",
       "        vertical-align: middle;\n",
       "    }\n",
       "\n",
       "    .dataframe tbody tr th {\n",
       "        vertical-align: top;\n",
       "    }\n",
       "\n",
       "    .dataframe thead th {\n",
       "        text-align: right;\n",
       "    }\n",
       "</style>\n",
       "<table border=\"1\" class=\"dataframe\">\n",
       "  <thead>\n",
       "    <tr style=\"text-align: right;\">\n",
       "      <th></th>\n",
       "      <th>id</th>\n",
       "      <th>title</th>\n",
       "      <th>link</th>\n",
       "      <th>published</th>\n",
       "      <th>published_parsed</th>\n",
       "      <th>unparsed</th>\n",
       "    </tr>\n",
       "  </thead>\n",
       "  <tbody>\n",
       "    <tr>\n",
       "      <th>0</th>\n",
       "      <td>114175</td>\n",
       "      <td>A Miskolc-Hidasnémeti vonalon helyreáll a mene...</td>\n",
       "      <td>https://www.mavcsoport.hu/node/114175</td>\n",
       "      <td>Sat, 26 Nov 2022 11:27:10 +0100</td>\n",
       "      <td>(2022, 11, 26, 10, 27, 10, 5, 330, 0)</td>\n",
       "      <td>{'title': 'A Miskolc-Hidasnémeti vonalon helyr...</td>\n",
       "    </tr>\n",
       "    <tr>\n",
       "      <th>0</th>\n",
       "      <td>114173</td>\n",
       "      <td>Székesfehérvár és Várpalota között már nem kel...</td>\n",
       "      <td>https://www.mavcsoport.hu/node/114173</td>\n",
       "      <td>Sat, 26 Nov 2022 11:19:52 +0100</td>\n",
       "      <td>(2022, 11, 26, 10, 19, 52, 5, 330, 0)</td>\n",
       "      <td>{'title': 'Székesfehérvár és Várpalota között ...</td>\n",
       "    </tr>\n",
       "  </tbody>\n",
       "</table>\n",
       "</div>"
      ],
      "text/plain": [
       "       id                                              title  \\\n",
       "0  114175  A Miskolc-Hidasnémeti vonalon helyreáll a mene...   \n",
       "0  114173  Székesfehérvár és Várpalota között már nem kel...   \n",
       "\n",
       "                                    link                        published  \\\n",
       "0  https://www.mavcsoport.hu/node/114175  Sat, 26 Nov 2022 11:27:10 +0100   \n",
       "0  https://www.mavcsoport.hu/node/114173  Sat, 26 Nov 2022 11:19:52 +0100   \n",
       "\n",
       "                        published_parsed  \\\n",
       "0  (2022, 11, 26, 10, 27, 10, 5, 330, 0)   \n",
       "0  (2022, 11, 26, 10, 19, 52, 5, 330, 0)   \n",
       "\n",
       "                                            unparsed  \n",
       "0  {'title': 'A Miskolc-Hidasnémeti vonalon helyr...  \n",
       "0  {'title': 'Székesfehérvár és Várpalota között ...  "
      ]
     },
     "execution_count": 7,
     "metadata": {},
     "output_type": "execute_result"
    }
   ],
   "source": [
    "df = pd.DataFrame([nw[0]])\n",
    "df = pd.concat([df, pd.DataFrame([nw[1]])])\n",
    "df.head()"
   ]
  },
  {
   "cell_type": "code",
   "execution_count": 8,
   "metadata": {},
   "outputs": [],
   "source": [
    "df2 = pd.DataFrame(nw)"
   ]
  },
  {
   "cell_type": "code",
   "execution_count": 9,
   "metadata": {},
   "outputs": [
    {
     "ename": "AttributeError",
     "evalue": "'NoneType' object has no attribute 'id'",
     "output_type": "error",
     "traceback": [
      "\u001b[1;31m---------------------------------------------------------------------------\u001b[0m",
      "\u001b[1;31mAttributeError\u001b[0m                            Traceback (most recent call last)",
      "Cell \u001b[1;32mIn [9], line 9\u001b[0m\n\u001b[0;32m      5\u001b[0m \u001b[39mfrom\u001b[39;00m \u001b[39mimportlib\u001b[39;00m \u001b[39mimport\u001b[39;00m reload\n\u001b[0;32m      7\u001b[0m reload(csv)\n\u001b[1;32m----> 9\u001b[0m storage \u001b[39m=\u001b[39m csv\u001b[39m.\u001b[39;49mcsvStorage(\u001b[39m'\u001b[39;49m\u001b[39mtest2.csv\u001b[39;49m\u001b[39m'\u001b[39;49m)\n\u001b[0;32m     10\u001b[0m newent:RSSEntry \u001b[39m=\u001b[39m copy\u001b[39m.\u001b[39mdeepcopy(nw[\u001b[39m6\u001b[39m])\n\u001b[0;32m     11\u001b[0m newent\u001b[39m.\u001b[39mpublished_parsed \u001b[39m=\u001b[39m time\u001b[39m.\u001b[39mgmtime()\n",
      "File \u001b[1;32mD:\\U_targyak\\MSC\\SZAR\\MAV-Event-Horizon\\src\\feed_handler\\csv_storage.py:41\u001b[0m, in \u001b[0;36mcsvStorage.__init__\u001b[1;34m(self, file_location)\u001b[0m\n\u001b[0;32m     37\u001b[0m     \u001b[39mself\u001b[39m\u001b[39m.\u001b[39m_storage \u001b[39m=\u001b[39m pd\u001b[39m.\u001b[39mDataFrame()\n\u001b[0;32m     39\u001b[0m \u001b[39mself\u001b[39m\u001b[39m.\u001b[39m_csv_path \u001b[39m=\u001b[39m file_location\n\u001b[1;32m---> 41\u001b[0m \u001b[39msuper\u001b[39;49m()\u001b[39m.\u001b[39;49m\u001b[39m__init__\u001b[39;49m()\n",
      "File \u001b[1;32mD:\\U_targyak\\MSC\\SZAR\\MAV-Event-Horizon\\src\\feed_handler\\reflexive_feed_storage.py:14\u001b[0m, in \u001b[0;36mReflexiveFeedStorage.__init__\u001b[1;34m(self)\u001b[0m\n\u001b[0;32m     12\u001b[0m \u001b[39mfor\u001b[39;00m \u001b[39mid\u001b[39m \u001b[39min\u001b[39;00m id_list:\n\u001b[0;32m     13\u001b[0m     event \u001b[39m=\u001b[39m \u001b[39mself\u001b[39m\u001b[39m.\u001b[39m_load_latest_event_by_id(\u001b[39mid\u001b[39m)\n\u001b[1;32m---> 14\u001b[0m     \u001b[39mself\u001b[39m\u001b[39m.\u001b[39m_cahce[event\u001b[39m.\u001b[39;49mid] \u001b[39m=\u001b[39m event\n\u001b[0;32m     15\u001b[0m     \u001b[39mself\u001b[39m\u001b[39m.\u001b[39m_already_stored_events\u001b[39m.\u001b[39mappend(\u001b[39mid\u001b[39m)\n",
      "\u001b[1;31mAttributeError\u001b[0m: 'NoneType' object has no attribute 'id'"
     ]
    }
   ],
   "source": [
    "import copy\n",
    "import time\n",
    "import src.feed_handler.csv_storage as csv\n",
    "from src.RSS_abstracts.RSSEntry import RSSEntry\n",
    "from importlib import reload\n",
    "\n",
    "reload(csv)\n",
    "\n",
    "storage = csv.csvStorage(\"test2.csv\")\n",
    "newent: RSSEntry = copy.deepcopy(nw[6])\n",
    "newent.published_parsed = time.gmtime()\n",
    "newent.published = \"arbitratry new date\"\n",
    "newent.title = \"Update:\" + newent.title\n",
    "print(newent)\n",
    "print(storage.add_event(nw[6]))\n",
    "print(storage.add_event(newent))"
   ]
  },
  {
   "cell_type": "markdown",
   "metadata": {},
   "source": []
  },
  {
   "cell_type": "code",
   "execution_count": 5,
   "metadata": {},
   "outputs": [],
   "source": [
    "import src.feed_handler.csv_storage as csv\n",
    "from importlib import reload\n",
    "\n",
    "reload(csv)\n",
    "storage = csv.csvStorage(\"test.csv\")\n",
    "\n",
    "\n",
    "feed = Feed(storage=storage, link=\"https://www.mavcsoport.hu/mavinform/rss.xml\")\n",
    "nw = feed.update()\n",
    "for n in nw:\n",
    "    print(n)"
   ]
  }
 ],
 "metadata": {
  "kernelspec": {
   "display_name": "Python 3.10.7 ('.venv': venv)",
   "language": "python",
   "name": "python3"
  },
  "language_info": {
   "codemirror_mode": {
    "name": "ipython",
    "version": 3
   },
   "file_extension": ".py",
   "mimetype": "text/x-python",
   "name": "python",
   "nbconvert_exporter": "python",
   "pygments_lexer": "ipython3",
   "version": "3.10.7"
  },
  "orig_nbformat": 4,
  "vscode": {
   "interpreter": {
    "hash": "db664d93f5faa7121f61b288f251b24b702e36eb17bcf8d0484f3d5af0656b5f"
   }
  }
 },
 "nbformat": 4,
 "nbformat_minor": 2
}
