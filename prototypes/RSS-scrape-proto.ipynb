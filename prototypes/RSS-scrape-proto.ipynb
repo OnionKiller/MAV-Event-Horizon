{
 "cells": [
  {
   "cell_type": "code",
   "execution_count": 1,
   "metadata": {},
   "outputs": [],
   "source": [
    "import feedparser\n",
    "\n",
    "d: feedparser.FeedParserDict = feedparser.parse(\n",
    "    r\"https://www.mavcsoport.hu/mavinform/rss.xml\"\n",
    ")\n",
    "if d.status != 200:\n",
    "    raise NotImplementedError(\"Handle if feed is down!\")"
   ]
  },
  {
   "cell_type": "code",
   "execution_count": 2,
   "metadata": {},
   "outputs": [
    {
     "name": "stdout",
     "output_type": "stream",
     "text": [
      "MÁVINFORM hírek 10\n",
      "{'title': 'Prágából késik a 277-es Metropolitan', 'title_detail': {'type': 'text/plain', 'language': 'hu', 'base': 'https://www.mavcsoport.hu/mav-csoport/hirek', 'value': 'Prágából késik a 277-es Metropolitan'}, 'links': [{'rel': 'alternate', 'type': 'text/html', 'href': 'https://www.mavcsoport.hu/node/113787'}], 'link': 'https://www.mavcsoport.hu/node/113787', 'summary': '', 'summary_detail': {'type': 'text/html', 'language': 'hu', 'base': 'https://www.mavcsoport.hu/mav-csoport/hirek', 'value': ''}, 'published': 'Fri, 18 Nov 2022 16:07:30 +0100', 'published_parsed': time.struct_time(tm_year=2022, tm_mon=11, tm_mday=18, tm_hour=15, tm_min=7, tm_sec=30, tm_wday=4, tm_yday=322, tm_isdst=0), 'authors': [{'name': 'MÁV.hu szerkesztőség'}], 'author': 'MÁV.hu szerkesztőség', 'author_detail': {'name': 'MÁV.hu szerkesztőség'}, 'id': '113787', 'guidislink': False}\n"
     ]
    }
   ],
   "source": [
    "print(d.feed.description, len(d.entries))\n",
    "print(d.entries[0])"
   ]
  },
  {
   "cell_type": "code",
   "execution_count": 4,
   "metadata": {},
   "outputs": [
    {
     "name": "stdout",
     "output_type": "stream",
     "text": [
      "{'id': <class 'int'>, 'title': <class 'str'>, 'link': <class 'str'>, 'published': <class 'str'>, 'published_parsed': typing.List[int], 'unparsed': typing.Dict}\n",
      "RSSEntry(id='113787', title='Prágából késik a 277-es Metropolitan', link='https://www.mavcsoport.hu/node/113787', published='Fri, 18 Nov 2022 16:07:30 +0100', published_parsed=time.struct_time(tm_year=2022, tm_mon=11, tm_mday=18, tm_hour=15, tm_min=7, tm_sec=30, tm_wday=4, tm_yday=322, tm_isdst=0), unparsed={'title': 'Prágából késik a 277-es Metropolitan', 'title_detail': {'type': 'text/plain', 'language': 'hu', 'base': 'https://www.mavcsoport.hu/mav-csoport/hirek', 'value': 'Prágából késik a 277-es Metropolitan'}, 'links': [{'rel': 'alternate', 'type': 'text/html', 'href': 'https://www.mavcsoport.hu/node/113787'}], 'link': 'https://www.mavcsoport.hu/node/113787', 'summary': '', 'summary_detail': {'type': 'text/html', 'language': 'hu', 'base': 'https://www.mavcsoport.hu/mav-csoport/hirek', 'value': ''}, 'published': 'Fri, 18 Nov 2022 16:07:30 +0100', 'published_parsed': time.struct_time(tm_year=2022, tm_mon=11, tm_mday=18, tm_hour=15, tm_min=7, tm_sec=30, tm_wday=4, tm_yday=322, tm_isdst=0), 'authors': [{'name': 'MÁV.hu szerkesztőség'}], 'author': 'MÁV.hu szerkesztőség', 'author_detail': {'name': 'MÁV.hu szerkesztőség'}, 'id': '113787', 'guidislink': False})\n"
     ]
    }
   ],
   "source": [
    "import os, sys\n",
    "\n",
    "sys.path.append(os.path.dirname(os.path.realpath(\"../RSS_abstracts\")))\n",
    "from RSS_abstracts.RSSEntry import RSSEntry\n",
    "import importlib\n",
    "\n",
    "print(RSSEntry.__annotations__)\n",
    "\n",
    "e = RSSEntry.from_dict(d.entries[0])\n",
    "print(e)"
   ]
  },
  {
   "cell_type": "code",
   "execution_count": 12,
   "metadata": {},
   "outputs": [
    {
     "name": "stdout",
     "output_type": "stream",
     "text": [
      "{\"title\": \"A Debrecen-Ny\\u00edr\\u00e1br\\u00e1ny vonalon helyre\\u00e1llhat a menetrend\", \"title_detail\": {\"type\": \"text/plain\", \"language\": \"hu\", \"base\": \"https://www.mavcsoport.hu/mav-csoport/hirek\", \"value\": \"A Debrecen-Ny\\u00edr\\u00e1br\\u00e1ny vonalon helyre\\u00e1llhat a menetrend\"}, \"links\": [{\"rel\": \"alternate\", \"type\": \"text/html\", \"href\": \"https://www.mavcsoport.hu/node/113301\"}], \"link\": \"https://www.mavcsoport.hu/node/113301\", \"summary\": \"\", \"summary_detail\": {\"type\": \"text/html\", \"language\": \"hu\", \"base\": \"https://www.mavcsoport.hu/mav-csoport/hirek\", \"value\": \"\"}, \"published\": \"Wed, 09 Nov 2022 11:56:06 +0100\", \"published_parsed\": [2022, 11, 9, 10, 56, 6, 2, 313, 0], \"authors\": [{\"name\": \"M\\u00c1V.hu szerkeszt\\u0151s\\u00e9g\"}], \"author\": \"M\\u00c1V.hu szerkeszt\\u0151s\\u00e9g\", \"author_detail\": {\"name\": \"M\\u00c1V.hu szerkeszt\\u0151s\\u00e9g\"}, \"id\": \"113301\", \"guidislink\": false}\n"
     ]
    }
   ],
   "source": [
    "import json\n",
    "\n",
    "jstr = json.dumps(d.entries[0])\n",
    "print(jstr)"
   ]
  },
  {
   "cell_type": "code",
   "execution_count": null,
   "metadata": {},
   "outputs": [],
   "source": []
  },
  {
   "cell_type": "code",
   "execution_count": null,
   "metadata": {},
   "outputs": [],
   "source": [
    "link = d.entries[0][\"link\"]\n",
    "import requests\n",
    "\n",
    "res = requests.get(link)\n",
    "if res.status_code != requests.codes.OK:\n",
    "    raise ValueError(\"Response Failed!\")"
   ]
  },
  {
   "cell_type": "code",
   "execution_count": null,
   "metadata": {},
   "outputs": [
    {
     "name": "stdout",
     "output_type": "stream",
     "text": [
      "<title>A Zemplén InterCity Szerencstől késve közlekedik | MÁV-csoport</title>\n",
      "[<div class=\"content clearfix\">\n",
      "<div class=\"node-date\">2022. november 6. vasárnap, 19.39</div>\n",
      "<div class=\"field-body\">\n",
      "<p>A Miskolc-Tiszai pályaudvarról Sátoraljaújhelyre 18:40-kor elindult <strong>Zemplén InterCity (526)</strong> mozdonya Szerencs állomáson meghibásodott, ezért <strong>várhatóan 40 perc késéssel indul tovább. </strong></p>\n",
      "<p>MÁVINFORM</p>\n",
      "</div>\n",
      "</div>]\n"
     ]
    }
   ],
   "source": [
    "from bs4 import BeautifulSoup\n",
    "\n",
    "parsed = BeautifulSoup(res.text, \"html.parser\")\n",
    "print(parsed.title)\n",
    "\n",
    "print(parsed.select(\"#block-system-main .content.clearfix\"))\n",
    "# print([x for x in parsed.select(\"#block-system-main .content.clearfix\")[0].children ])\n",
    "# print([x for x in parsed.select(\"#block-system-main .content.clearfix\")[0].stripped_strings])\n",
    "\n",
    "content = parsed.select(\"#block-system-main .content.clearfix\")[0]"
   ]
  },
  {
   "cell_type": "code",
   "execution_count": null,
   "metadata": {},
   "outputs": [
    {
     "name": "stdout",
     "output_type": "stream",
     "text": [
      "A Miskolc-Tiszai pályaudvarról Sátoraljaújhelyre 18:40-kor elindult Zemplén InterCity (526) mozdonya Szerencs állomáson meghibásodott, ezért várhatóan 40 perc késéssel indul tovább. MÁVINFORM\n"
     ]
    }
   ],
   "source": [
    "k = parsed.select(\".field-body\")[0]\n",
    "print(\" \".join(k.stripped_strings))"
   ]
  },
  {
   "cell_type": "code",
   "execution_count": null,
   "metadata": {},
   "outputs": [],
   "source": [
    "import importlib\n",
    "import os, sys\n",
    "\n",
    "sys.path.append(os.path.dirname(os.path.realpath(\"../parser\")))\n",
    "from nlp.webnode_parser import WebNodeParser"
   ]
  },
  {
   "cell_type": "code",
   "execution_count": null,
   "metadata": {},
   "outputs": [
    {
     "name": "stdout",
     "output_type": "stream",
     "text": [
      "A Miskolc-Tiszai pályaudvarról Sátoraljaújhelyre 1\n",
      "Frissítés: Rákos és Pécel között már mindkét vágán\n",
      "A Vámosgyörkről Szolnokra 5:22-kor elindult személ\n",
      "Frissítés: Villány és Áta között már közlekednek a\n",
      "Frissítés: Városlőd-Kislőd állomás és Szentgál köz\n",
      "A Szegedről Békéscsabára 16:28-kor elindult 7706-o\n",
      "A Pécsről a Keleti pályaudvarra tartó 815-ös számú\n",
      "Frissítés: Taktaharkány és Hernádnémeti-Bőcs állom\n",
      "Frissítés: Az esztergomi vonal Óbuda–Solymár közöt\n",
      "Frissítés: A Déli pályaudvarról Tapolcára 13:05-ko\n"
     ]
    }
   ],
   "source": [
    "for e in d.entries:\n",
    "    print(WebNodeParser.str_form_entry(e)[0:50])"
   ]
  },
  {
   "cell_type": "code",
   "execution_count": null,
   "metadata": {},
   "outputs": [
    {
     "name": "stdout",
     "output_type": "stream",
     "text": [
      "W/\"1667761362-1\"\n",
      "304\n"
     ]
    }
   ],
   "source": [
    "# check if etag is enabled\n",
    "last_etag = d2.etag if d2 is not None else d.etag\n",
    "d2: feedparser.FeedParserDict = feedparser.parse(\n",
    "    r\"https://www.mavcsoport.hu/mavinform/rss.xml\", etag=last_etag\n",
    ")\n",
    "print(d2.etag)\n",
    "print(d2.status)\n",
    "# etag is working"
   ]
  }
 ],
 "metadata": {
  "kernelspec": {
   "display_name": "Python 3.11.0 ('.venv': venv)",
   "language": "python",
   "name": "python3"
  },
  "language_info": {
   "codemirror_mode": {
    "name": "ipython",
    "version": 3
   },
   "file_extension": ".py",
   "mimetype": "text/x-python",
   "name": "python",
   "nbconvert_exporter": "python",
   "pygments_lexer": "ipython3",
   "version": "3.10.7"
  },
  "orig_nbformat": 4,
  "vscode": {
   "interpreter": {
    "hash": "db664d93f5faa7121f61b288f251b24b702e36eb17bcf8d0484f3d5af0656b5f"
   }
  }
 },
 "nbformat": 4,
 "nbformat_minor": 2
}
